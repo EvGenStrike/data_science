{
 "cells": [
  {
   "cell_type": "markdown",
   "metadata": {
    "id": "vC84e9kzyxPy"
   },
   "source": [
    "<h1>Импорт библиотек"
   ]
  },
  {
   "cell_type": "code",
   "execution_count": 3,
   "metadata": {
    "id": "cgKeNegmQG5S"
   },
   "outputs": [],
   "source": [
    "import numpy as np\n",
    "import matplotlib.pyplot as plt"
   ]
  },
  {
   "cell_type": "markdown",
   "metadata": {
    "id": "qFM9uVU2x4Ls"
   },
   "source": [
    "<h1>Задача 1. Дан набор из $p$ матриц размерностью $(n, n)$ и $p$ векторов размерностью $(n, 1)$, найти сумму произведений матриц на векторы. Написать тесты для кода"
   ]
  },
  {
   "cell_type": "code",
   "execution_count": null,
   "metadata": {
    "id": "IAbUvEiYyWFF"
   },
   "outputs": [],
   "source": [
    "import numpy as np\n",
    "import matplotlib.pyplot as plt\n",
    "\n",
    "\n",
    "def sum_prod(X, V):\n",
    "    '''\n",
    "    X - матрицы (n, n)\n",
    "    V - векторы (n, 1)\n",
    "    Гарантируется, что len(X) == len(V)\n",
    "    '''\n",
    "    result_matrix = None\n",
    "    for i in range(len(X)):\n",
    "        matrix = X[i]\n",
    "        vector = V[i]\n",
    "        result = matrix.dot(vector)\n",
    "        if result_matrix is None:\n",
    "            result_matrix = result\n",
    "        else:\n",
    "            result_matrix += result\n",
    "    return result_matrix\n",
    "\n",
    "\n",
    "def test_1():\n",
    "    matrixes = [\n",
    "        np.array([\n",
    "            [1, 2, 3],\n",
    "            [4, 5, 6],\n",
    "            [7, 8, 9]\n",
    "        ]),\n",
    "\n",
    "        np.array([\n",
    "            [9, 8, 7],\n",
    "            [6, 5, 4],\n",
    "            [3, 2, 1]\n",
    "        ]),\n",
    "\n",
    "        np.array([\n",
    "            [123, 321, 111],\n",
    "            [453, 765, 940],\n",
    "            [491, 945, 481]\n",
    "        ])\n",
    "    ]\n",
    "\n",
    "    vectors = [\n",
    "        np.array([[1], [2], [3]]),\n",
    "        np.array([[4], [5], [6]]),\n",
    "        np.array([[7], [8], [9]])\n",
    "    ]\n",
    "\n",
    "    correct_answer = [[4560],\n",
    "                      [17856],\n",
    "                      [15404]]\n",
    "    actual_answer = sum_prod(matrixes, vectors)\n",
    "    print(actual_answer)\n",
    "    return correct_answer == actual_answer\n",
    "\n",
    "\n",
    "def test_2():\n",
    "    matrixes = [\n",
    "        np.array([\n",
    "            [1, 2, 3, 4],\n",
    "            [4, 5, 6, 6],\n",
    "            [7, 8, 9, 8],\n",
    "            [1, 2, 3, 4]\n",
    "        ]),\n",
    "\n",
    "        np.array([\n",
    "            [9, 8, 7, 2],\n",
    "            [6, 5, 4, 4],\n",
    "            [3, 2, 1, 1],\n",
    "            [0, 3, 6, 1]\n",
    "        ]),\n",
    "\n",
    "        np.array([\n",
    "            [123, 321, 111, 2],\n",
    "            [453, 765, 940, 3],\n",
    "            [491, 945, 481, 4],\n",
    "            [123, 4235, 1235, 1236]\n",
    "        ]),\n",
    "\n",
    "        np.array([\n",
    "            [7814, 18904, 12893, 2356],\n",
    "            [98123, 8123, 1, 0],\n",
    "            [32487, 1234, 345, 435],\n",
    "            [129837, 324, 123, 451]\n",
    "        ])\n",
    "    ]\n",
    "\n",
    "    vectors = [\n",
    "        np.array([[1], [2], [3], [0]]),\n",
    "        np.array([[4], [5], [6], [1]]),\n",
    "        np.array([[7], [8], [9], [3421]]),\n",
    "        np.array([[3], [14], [62], [12]])\n",
    "    ]\n",
    "\n",
    "    correct_answer = [[1127140],\n",
    "                      [436276],\n",
    "                      [170436],\n",
    "                      [4681363]]\n",
    "    actual_answer = sum_prod(matrixes, vectors)\n",
    "    print(actual_answer)\n",
    "    return correct_answer == actual_answer\n",
    "\n",
    "\n",
    "print(test_1())\n",
    "print(test_2())\n"
   ]
  },
  {
   "cell_type": "markdown",
   "metadata": {
    "id": "TKwPG4fIy2w4"
   },
   "source": [
    "<h1>Задача 2. Дана матрица M, напишите функцию, которая бинаризует матрицу по некоторому threshold (то есть, все значения большие threshold становятся равными 1, иначе 0). Напишите тесты для кода"
   ]
  },
  {
   "cell_type": "code",
   "execution_count": null,
   "metadata": {
    "id": "KQDNMgsjRNH7"
   },
   "outputs": [],
   "source": [
    "def binarize(M, threshold=0.5):\n",
    "    # Your code goes here\n",
    "    pass"
   ]
  },
  {
   "cell_type": "markdown",
   "metadata": {
    "id": "IY5L-h-7zWhN"
   },
   "source": [
    "<h1>Задача 3. Напишите функцию, которая возвращает уникальные элементы из каждой строки матрицы. Напишите такую же функцию, но для столбцов. Напишите тесты для кода"
   ]
  },
  {
   "cell_type": "code",
   "execution_count": null,
   "metadata": {
    "id": "-8dEZhR0SBC-"
   },
   "outputs": [],
   "source": [
    "import collections\n",
    "import numpy as np\n",
    "import matplotlib.pyplot as plt\n",
    "\n",
    "\n",
    "\n",
    "def unique_rows(mat):\n",
    "    result = []\n",
    "    for row in mat:\n",
    "        result.append(list(set(row)))\n",
    "    return result\n",
    "\n",
    "\n",
    "def unique_columns(mat):\n",
    "    result = []\n",
    "    #mat.T - транспонированная матрица, чтобы проходиться по колонкам\n",
    "    for column in mat.T:\n",
    "        result.append(list(set(column)))\n",
    "    return result\n",
    "\n",
    "\n",
    "def test_1():\n",
    "    print(\"Тест 1\")\n",
    "    matrix = np.array([\n",
    "            [1, 2, 3],\n",
    "            [4, 5, 6],\n",
    "            [7, 8, 9]\n",
    "        ])\n",
    "    actual_asnwer_rows = unique_rows(matrix)\n",
    "    actual_asnwer_columns = unique_columns(matrix)\n",
    "    print(f\"original {matrix}\")\n",
    "    print(f\"actual unique rows {actual_asnwer_rows}\")\n",
    "    print(f\"actual unique columns {actual_asnwer_columns}\")\n",
    "\n",
    "\n",
    "def test_2():\n",
    "    print(\"Тест 2\")\n",
    "    matrix = np.array([\n",
    "            [1, 2, 3, 4],\n",
    "            [4, 5, 6, 6],\n",
    "            [7, 8, 9, 8],\n",
    "            [1, 2, 3, 4]\n",
    "        ])\n",
    "    actual_asnwer_rows = unique_rows(matrix)\n",
    "    actual_asnwer_columns = unique_columns(matrix)\n",
    "    print(f\"original {matrix}\")\n",
    "    print(f\"actual unique rows {actual_asnwer_rows}\")\n",
    "    print(f\"actual unique columns {actual_asnwer_columns}\\n\")\n",
    "\n",
    "\n",
    "\n",
    "test_1()\n",
    "test_2()\n"
   ]
  },
  {
   "cell_type": "markdown",
   "metadata": {
    "id": "roYAlo4Jz-lH"
   },
   "source": [
    "<h1>Задача 4. Напишите функцию, которая заполняет матрицу с размерами $(m, n)$ случайными числами, распределенными по нормальному закону. Затем считает мат. ожидание и дисперсию для каждого из столбцов и строк, а также строит для каждой строки и столбца гистограмму значений (использовать функцию hist из модуля matplotlib.plot)"
   ]
  },
  {
   "cell_type": "code",
   "execution_count": null,
   "metadata": {
    "id": "nZK_71hMSQzv"
   },
   "outputs": [],
   "source": [
    "# Your code goes here"
   ]
  },
  {
   "cell_type": "markdown",
   "metadata": {
    "id": "BDyATNdM0dJ2"
   },
   "source": [
    "<h1>Задача 5. Напишите функцию, которая заполняет матрицу $(m, n)$ в шахматном порядке заданными числами $a$ и $b$. Напишите тесты для кода"
   ]
  },
  {
   "cell_type": "code",
   "execution_count": null,
   "metadata": {
    "id": "RWNJYWQGecS6"
   },
   "outputs": [],
   "source": [
    "import numpy as np\n",
    "import matplotlib.pyplot as plt\n",
    "\n",
    "\n",
    "\n",
    "def chess(m, n, a, b):\n",
    "    matrix = np.zeros((m, n))\n",
    "    flag = True\n",
    "    for i in range(m):\n",
    "        for j in range(n):\n",
    "            matrix[i, j] = a if flag else b\n",
    "            flag = not flag\n",
    "    return matrix\n",
    "\n",
    "\n",
    "def test_1():\n",
    "    correct_matrix = [[1, 2, 1, ],\n",
    "                      [2, 1, 2, ],\n",
    "                      [1, 2, 1]]\n",
    "    actual_matrix = chess(3, 3, 1, 2)\n",
    "    print(f\"correct matrix\\n {correct_matrix}\")\n",
    "    print(f\"actual matrix\\n {actual_matrix}\\n\\n\")\n",
    "\n",
    "\n",
    "def test_2():\n",
    "    correct_matrix = [[3, 4, 3, 4, 3, ],\n",
    "                      [4, 3, 4, 3, 4, ],\n",
    "                      [3, 4, 3, 4, 3, ],\n",
    "                      [4, 3, 4, 3, 4, ],\n",
    "                      [3, 4, 3, 4, 3, ]]\n",
    "    actual_matrix = chess(5, 5, 3, 4)\n",
    "    print(f\"correct matrix\\n {correct_matrix}\")\n",
    "    print(f\"actual matrix\\n {actual_matrix}\")\n",
    "\n",
    "\n",
    "test_1()\n",
    "test_2()\n"
   ]
  },
  {
   "cell_type": "markdown",
   "metadata": {
    "id": "-ymXLtTN0vB6"
   },
   "source": [
    "<h1>Задача 6. Напишите функцию, которая отрисовывает прямоугольник с заданными размерами (a, b) на изображении размера (m, n), цвет фона задайте в схеме RGB, как и цвет прямоугольника. Цвета также должны быть параметрами функции. Напишите аналогичную функцию но для овала с полуосями a и b. Напишите тесты для кода.\n",
    "Примечание: уравнение эллипса (границы овала) можно записать как:\n",
    "<h1>$\\frac{(x-x_0)^2}{a^2}+\\frac{(y-y_0)^2}{b^2}=1$"
   ]
  },
  {
   "cell_type": "code",
   "execution_count": 1,
   "metadata": {
    "id": "sNfl1t_kfOF4"
   },
   "outputs": [],
   "source": [
    "def draw_rectangle(a, b, m, n, rectangle_color, background_color):\n",
    "    # Your code goes here\n",
    "    pass\n",
    "\n",
    "def draw_ellipse(a, b, m, n, ellipse_color, background_color):\n",
    "    # Your code goes here\n",
    "    pass"
   ]
  },
  {
   "cell_type": "markdown",
   "metadata": {
    "id": "S82c38oz244H"
   },
   "source": [
    "<h1>Задача 7. Дан некий временной ряд. Для данного ряда нужно найти его: математическое ожидание, дисперсию, СКО, найти все локальные максимумы и минимумы (локальный максимум - это точка, которая больше своих соседних точек, а локальный минимум - это точка, которая меньше своих соседей), а также вычислить для данного ряда другой ряд, получаемый методом скользящего среднего с размером окна $p$.\n",
    "<h1>Примечание: метод скользящего среднего подразумевает нахождение среднего из подмножетсва ряда размером $p$"
   ]
  },
  {
   "cell_type": "code",
   "execution_count": null,
   "metadata": {
    "id": "Zb9mIVge5MMt"
   },
   "outputs": [],
   "source": [
    "import random\n",
    "import numpy as np\n",
    "import matplotlib.pyplot as plt\n",
    "\n",
    "arr = [random.randint(-100, 100) for _ in range(10)]\n",
    "\n",
    "\n",
    "def local_maxs(arr):\n",
    "    maxs = []\n",
    "    for i in range(1, 5):\n",
    "        if arr[i] > arr[i - 1]:\n",
    "            if arr[i] > arr[i + 1]:\n",
    "                maxs.append(arr[i])\n",
    "    return maxs\n",
    "\n",
    "\n",
    "def local_mins(arr):\n",
    "    mins = []\n",
    "    for i in range(1, 5):\n",
    "        if arr[i] < arr[i - 1]:\n",
    "            if arr[i] < arr[i + 1]:\n",
    "                mins.append(arr[i])\n",
    "    return mins\n",
    "\n",
    "\n",
    "def moving_avg(arr, p):\n",
    "    cumsum = np.cumsum(np.insert(arr, 0, 0))\n",
    "    result = (cumsum[p:] - cumsum[:-p]) / float(p)\n",
    "    return [round(result[i], 2) for i in range(len(result))]\n",
    "\n",
    "\n",
    "print(f\"Исходный список: {arr}\")\n",
    "print(f\"Среднее ожидание: {np.mean(arr)}\")\n",
    "print(f\"Дисперсия: {np.var(arr)}\")\n",
    "print(f\"СКО: {np.std(arr)}\")\n",
    "print(f\"Локальные максимумы: {local_maxs(arr)}\")\n",
    "print(f\"Локальные минимумы: {local_mins(arr)}\")\n",
    "print(f\"Ряд, вычисленный методом скользящего среднего из исходного ряда с окном p=3: {moving_avg(arr, 3)}\")\n",
    "print(f\"Ряд, вычисленный методом скользящего среднего из исходного ряда с окном p=4: {moving_avg(arr, 4)}\")\n"
   ]
  },
  {
   "cell_type": "markdown",
   "metadata": {
    "id": "jPkylmOX5O9n"
   },
   "source": [
    "<h1> Задача 8. Дан некоторый вектор с целочисленными метками классов, напишите функцию, которая выполняет one-hot-encoding для данного вектора\n",
    "<h1> One-hot-encoding - представление, в котором на месте метки некоторого класса стоит 1, в остальных позициях стоит 0. Например для вектора [0, 2, 3, 0] one-hot-encoding выглядит как: [[1, 0, 0, 0], [0, 0, 1, 0], [0, 0, 0, 1], [1, 0, 0, 0]]"
   ]
  },
  {
   "cell_type": "code",
   "execution_count": null,
   "metadata": {
    "id": "Y-jlnZvw56lD"
   },
   "outputs": [],
   "source": [
    "# Your code goes here"
   ]
  }
 ],
 "metadata": {
  "colab": {
   "provenance": []
  },
  "kernelspec": {
   "display_name": "Python 3 (ipykernel)",
   "language": "python",
   "name": "python3"
  },
  "language_info": {
   "codemirror_mode": {
    "name": "ipython",
    "version": 3
   },
   "file_extension": ".py",
   "mimetype": "text/x-python",
   "name": "python",
   "nbconvert_exporter": "python",
   "pygments_lexer": "ipython3",
   "version": "3.11.3"
  }
 },
 "nbformat": 4,
 "nbformat_minor": 4
}
