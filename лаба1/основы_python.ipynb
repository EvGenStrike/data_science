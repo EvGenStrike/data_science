{
 "cells": [
  {
   "cell_type": "markdown",
   "metadata": {
    "id": "M-DGa20PaHnu"
   },
   "source": [
    "#Задача 1\n",
    "Написать функцию на вход которой подается строка, состоящая из латинских букв.\n",
    "Функция должна вернуть количество гласных букв (a, e, i, o, u) в этой строке. Написать тесты для кода"
   ]
  },
  {
   "cell_type": "code",
   "execution_count": null,
   "metadata": {
    "id": "XvX8X_JJ6PCb"
   },
   "outputs": [],
   "source": [
    "def count_required_letters(strr):\n",
    "    required_letters = [\"a\", \"e\", \"i\", \"o\", \"u\"]\n",
    "    print(strr)\n",
    "    for required_letter in required_letters:\n",
    "        print(f\"{required_letter}:{strr.count(required_letter)}\")\n",
    "    print()\n",
    "\n",
    "\n",
    "def test_no_required_letters():\n",
    "    count_required_letters(\"xyz\")\n",
    "\n",
    "\n",
    "def test_one_required_letter():\n",
    "    count_required_letters(\"xyzaxyz\")\n",
    "\n",
    "def test_all_required_letters():\n",
    "    count_required_letters(\"xyzaexioeu\")\n",
    "\n",
    "if __name__ == \"__main__\":\n",
    "    test_no_required_letters()\n",
    "    test_one_required_letter()\n",
    "    test_all_required_letters()\n"
   ]
  },
  {
   "cell_type": "markdown",
   "metadata": {
    "id": "t2ClV_Y0bbr6"
   },
   "source": [
    "# Задача 2\n",
    "Написать функцию на вход, которой подается строка. Функция должна вернуть true, если\n",
    "каждый символ в строке встречается только 1 раз, иначе должна вернуть false. Написать тесты для кода"
   ]
  },
  {
   "cell_type": "code",
   "execution_count": null,
   "metadata": {
    "id": "FppbECao6VIz"
   },
   "outputs": [],
   "source": [
    "def is_str_unique(strr):\n",
    "    return len(set(strr)) == len(strr)\n",
    "\n",
    "\n",
    "def test_empty_str():\n",
    "    print(is_str_unique(\"\"))\n",
    "\n",
    "\n",
    "def test_unique_str():\n",
    "    print(is_str_unique(\"abcdefg\"))\n",
    "\n",
    "\n",
    "def test_not_unique_str():\n",
    "    print(is_str_unique(\"abcdcb\"))\n",
    "\n",
    "if __name__ == \"__main__\":\n",
    "    test_empty_str()\n",
    "    test_unique_str()\n",
    "    test_not_unique_str()\n",
    "\n"
   ]
  },
  {
   "cell_type": "markdown",
   "metadata": {
    "id": "udRiIK1cdt6E"
   },
   "source": [
    "# Задача 3\n",
    "Написать функцию, которая принимает положительное число и возвращает количество\n",
    "бит равных 1 в этом числе. Написать тесты для кода"
   ]
  },
  {
   "cell_type": "code",
   "execution_count": null,
   "metadata": {
    "id": "6tkfDJRz6dp_"
   },
   "outputs": [],
   "source": [
    "def count_one_bit(number):\n",
    "    return bin(number).count(\"1\")\n",
    "\n",
    "def test_one_one():\n",
    "    return 1 == count_one_bit(1)\n",
    "\n",
    "def test_zero_ones():\n",
    "    return 0 == count_one_bit(0)\n",
    "\n",
    "def test_random_numer():\n",
    "    return 5 == count_one_bit(2346) #100100101010\n",
    "\n",
    "if __name__ == \"__main__\":\n",
    "    print(test_one_one())\n",
    "    print(test_zero_ones())\n",
    "    print(test_random_numer())"
   ]
  },
  {
   "cell_type": "markdown",
   "metadata": {
    "id": "26dDUz-Ae17N"
   },
   "source": [
    "# Задача 4\n",
    "Написать функцию, которая принимает положительное число. Функция должна вернуть то,\n",
    "сколько раз необходимо перемножать цифры числа или результат перемножения, чтобы\n",
    "получилось число состоящее из одной цифры.\n",
    "Например, для входного числа:\n",
    "· 39 функция должна вернуть 3, так как 3*9=27 => 2*7=14 => 1*4=4\n",
    "· 4 функция должна вернуть 0, так как число уже состоит из одной цифры\n",
    "· 999 функция должна вернуть 4, так как 9*9*9=729 => 7*2*9=126 => 1*2*6=12 =>\n",
    "1*2=2. Написать тесты для кода"
   ]
  },
  {
   "cell_type": "code",
   "execution_count": null,
   "metadata": {
    "id": "BH1A_Mgi6i4G"
   },
   "outputs": [],
   "source": [
    "import math\n",
    "\n",
    "def count_multiply_times(number):\n",
    "    count = 0\n",
    "    new_number = number\n",
    "    while True:\n",
    "        if new_number // 10 == 0:\n",
    "            return count\n",
    "        numbers = get_numbers(new_number)\n",
    "        new_number = math.prod(numbers)\n",
    "        count += 1\n",
    "\n",
    "\n",
    "def get_numbers(number):\n",
    "    b = []\n",
    "    while number > 0:\n",
    "        b.append(number % 10)\n",
    "        number = number // 10\n",
    "    return b\n",
    "\n",
    "\n",
    "def test_one_digit():\n",
    "    return 3 == count_multiply_times(39)\n",
    "\n",
    "def test_two_digits():\n",
    "    return 0 == count_multiply_times(4)\n",
    "\n",
    "def test_three_digits():\n",
    "    return 4 == count_multiply_times(999)\n",
    "\n",
    "if __name__ == \"__main__\":\n",
    "    print(test_one_digit())\n",
    "    print(test_two_digits())\n",
    "    print(test_three_digits())"
   ]
  },
  {
   "cell_type": "markdown",
   "metadata": {
    "id": "0nS-kIa8g8vd"
   },
   "source": [
    "# Задача 5\n",
    "Написать функцию, которая принимает два целочисленных вектора одинаковой длины и\n",
    "возвращает среднеквадратическое отклонение двух векторов. Написать тесты для кода"
   ]
  },
  {
   "cell_type": "code",
   "execution_count": null,
   "metadata": {
    "id": "8iphx4LM6xbx"
   },
   "outputs": [],
   "source": [
    "def mse(first, second):\n",
    "    sum = 0\n",
    "    n = len(first)\n",
    "    for i in range(0, n):\n",
    "        sum += (second[i] - first[i]) ** 2\n",
    "    return sum / n;\n",
    "\n",
    "def test_1():\n",
    "    return 9 == mse([1, 2, 3], [4, 5, 6])\n",
    "\n",
    "def test_2():\n",
    "    return 0 == mse([1, 1, 1, 1], [1, 1, 1, 1])\n",
    "\n",
    "def test_3():\n",
    "    return 56.5 == mse([9, 9, 9, 2], [0, 0, 1, 2])\n",
    "\n",
    "if __name__ == \"__main__\":\n",
    "    print(test_1())\n",
    "    print(test_2())\n",
    "    print(test_3())\n"
   ]
  },
  {
   "cell_type": "markdown",
   "metadata": {
    "id": "vpIPKL439zkw"
   },
   "source": [
    "# Задача 6\n",
    "Написать функцию, принимающая целое положительное число. Функция должна вернуть\n",
    "строку вида “(n1**p1)(n2**p2)…(nk**pk)” представляющая разложение числа на простые\n",
    "множители (если pi == 1, то выводить только ni).\n",
    "Например, для числа 86240 функция должна вернуть “(2**5)(5)(7**2)(11)”. Написать тесты для кода"
   ]
  },
  {
   "cell_type": "code",
   "execution_count": null,
   "metadata": {
    "id": "pFebmcZk94Jw"
   },
   "outputs": [],
   "source": [
    "def magic(number):\n",
    "    prime_numbers = simple_nums(number)\n",
    "    n = len(prime_numbers)\n",
    "    i = 0\n",
    "    answer =\"\"\n",
    "    while i < n:\n",
    "        power = prime_numbers.count(prime_numbers[i])\n",
    "        if power > 1:\n",
    "            answer += f\"({prime_numbers[i]}**{power})\"\n",
    "        else:\n",
    "            answer += f\"({prime_numbers[i]})\"\n",
    "        i += power\n",
    "    return answer\n",
    "\n",
    "\n",
    "def simple_nums(n):\n",
    "    answer = []\n",
    "    d = 2\n",
    "    while d * d <= n:\n",
    "        if n % d == 0:\n",
    "            answer.append(d)\n",
    "            n //= d\n",
    "        else:\n",
    "            d += 1\n",
    "    if n > 1:\n",
    "        answer.append(n)\n",
    "    return answer\n",
    "\n",
    "\n",
    "def test_1():\n",
    "    return \"(2**5)(5)(7**2)(11)\" == magic(86240)\n",
    "\n",
    "def test_2():\n",
    "    return \"(59**2)\" == magic(3481)\n",
    "\n",
    "def test_3():\n",
    "    return \"(5)\" == magic(5)\n",
    "\n",
    "if __name__ == \"__main__\":\n",
    "    print(test_1())\n",
    "    print(test_2())\n",
    "    print(test_3())\n",
    "    print(magic(234742394))\n"
   ]
  },
  {
   "cell_type": "markdown",
   "metadata": {
    "id": "ps2s0BudX7A2"
   },
   "source": [
    "# Задача 7\n",
    "Написать функцию, принимающая целое число n, задающее количество кубиков. Функция\n",
    "должна определить, можно ли из данного кол-ва кубиков построить пирамиду, то есть\n",
    "можно ли представить число n как 1^2+2^2+3^2+…+k^2. Если можно, то функция должна\n",
    "вернуть k, иначе строку “It is impossible”. Написать тесты для кода"
   ]
  },
  {
   "cell_type": "code",
   "execution_count": null,
   "metadata": {
    "id": "3YPjEXxhX_YT"
   },
   "outputs": [],
   "source": [
    "def pyramid(number):\n",
    "    sum = 0\n",
    "    for i in range(1, int(number ** 0.5 + 1)):\n",
    "        sum += i ** 2\n",
    "        if (sum == number):\n",
    "            return True\n",
    "    return False\n",
    "\n",
    "def test_1():\n",
    "    return pyramid(1)\n",
    "\n",
    "def test_2():\n",
    "    return pyramid(9)\n",
    "\n",
    "def test_3():\n",
    "    return pyramid(3495)\n",
    "\n",
    "if __name__ == \"__main__\":\n",
    "    print(test_1())\n",
    "    print(test_2())\n",
    "    print(test_3())"
   ]
  },
  {
   "cell_type": "markdown",
   "metadata": {
    "id": "KeKgmIdAQMEJ"
   },
   "source": [
    "# Задача 8\n",
    "Функция принимает на вход положительное число и определяет является ли оно сбалансированным, т.е. сумма цифр до средних равна сумме цифр после. Средними в случае нечетного числа цифр считать одну цифру, в случае четного - две средних. Написать тесты для кода"
   ]
  },
  {
   "cell_type": "code",
   "execution_count": null,
   "metadata": {
    "id": "gMAAqtqlQrZt"
   },
   "outputs": [],
   "source": [
    "def magic(number):\n",
    "    numbers = get_numbers(number)\n",
    "    sum_left = 0\n",
    "    sum_right = 0\n",
    "    n = len(numbers)\n",
    "    middle_index = (n - 1) // 2\n",
    "    for i in range(n):\n",
    "        right_index = n - i - 1\n",
    "        if i == middle_index:\n",
    "            break\n",
    "        sum_left += numbers[i]\n",
    "        sum_right += numbers[right_index]\n",
    "    return sum_right == sum_left\n",
    "\n",
    "\n",
    "def get_numbers(number):\n",
    "    b = []\n",
    "    while number > 0:\n",
    "        b.append(number % 10)\n",
    "        number = number // 10\n",
    "    return b\n",
    "\n",
    "\n",
    "def test_1():\n",
    "    return magic(1212)\n",
    "\n",
    "\n",
    "\n",
    "def test_2():\n",
    "    return magic(1421)\n",
    "\n",
    "\n",
    "def test_3():\n",
    "    return magic(12312)\n",
    "\n",
    "\n",
    "\n",
    "def test_4():\n",
    "    return magic(12311)\n",
    "\n",
    "\n",
    "if __name__ == \"__main__\":\n",
    "    print(test_1())\n",
    "    print(test_2())\n",
    "    print(test_3())\n",
    "    print(test_4())"
   ]
  }
 ],
 "metadata": {
  "colab": {
   "provenance": []
  },
  "kernelspec": {
   "display_name": "Python 3 (ipykernel)",
   "language": "python",
   "name": "python3"
  },
  "language_info": {
   "codemirror_mode": {
    "name": "ipython",
    "version": 3
   },
   "file_extension": ".py",
   "mimetype": "text/x-python",
   "name": "python",
   "nbconvert_exporter": "python",
   "pygments_lexer": "ipython3",
   "version": "3.11.3"
  }
 },
 "nbformat": 4,
 "nbformat_minor": 4
}
